{
 "cells": [
  {
   "cell_type": "markdown",
   "id": "e5461d36",
   "metadata": {},
   "source": [
    "## Project AOL\n",
    "## Language Identification\n",
    "\n",
    "### Anggota:\n",
    "### 1. Agustinus Ardian Cakra Widiastara\n",
    "### 2. Michael Leonardo\n",
    "### 3. Gabriel Jehuda"
   ]
  },
  {
   "cell_type": "code",
   "execution_count": 1,
   "id": "98c654fb",
   "metadata": {},
   "outputs": [],
   "source": [
    "#importing libraries\n",
    "import string\n",
    "import pandas as pd\n",
    "import matplotlib.pyplot as plt\n",
    "import seaborn as sns"
   ]
  },
  {
   "cell_type": "code",
   "execution_count": 2,
   "id": "e8eea2a9",
   "metadata": {},
   "outputs": [
    {
     "data": {
      "text/html": [
       "<div>\n",
       "<style scoped>\n",
       "    .dataframe tbody tr th:only-of-type {\n",
       "        vertical-align: middle;\n",
       "    }\n",
       "\n",
       "    .dataframe tbody tr th {\n",
       "        vertical-align: top;\n",
       "    }\n",
       "\n",
       "    .dataframe thead th {\n",
       "        text-align: right;\n",
       "    }\n",
       "</style>\n",
       "<table border=\"1\" class=\"dataframe\">\n",
       "  <thead>\n",
       "    <tr style=\"text-align: right;\">\n",
       "      <th></th>\n",
       "      <th>Text</th>\n",
       "      <th>language</th>\n",
       "    </tr>\n",
       "  </thead>\n",
       "  <tbody>\n",
       "    <tr>\n",
       "      <th>0</th>\n",
       "      <td>klement gottwaldi surnukeha palsameeriti ning ...</td>\n",
       "      <td>Estonian</td>\n",
       "    </tr>\n",
       "    <tr>\n",
       "      <th>1</th>\n",
       "      <td>sebes joseph pereira thomas  på eng the jesuit...</td>\n",
       "      <td>Swedish</td>\n",
       "    </tr>\n",
       "    <tr>\n",
       "      <th>2</th>\n",
       "      <td>ถนนเจริญกรุง อักษรโรมัน thanon charoen krung เ...</td>\n",
       "      <td>Thai</td>\n",
       "    </tr>\n",
       "    <tr>\n",
       "      <th>3</th>\n",
       "      <td>விசாகப்பட்டினம் தமிழ்ச்சங்கத்தை இந்துப் பத்திர...</td>\n",
       "      <td>Tamil</td>\n",
       "    </tr>\n",
       "    <tr>\n",
       "      <th>4</th>\n",
       "      <td>de spons behoort tot het geslacht haliclona en...</td>\n",
       "      <td>Dutch</td>\n",
       "    </tr>\n",
       "  </tbody>\n",
       "</table>\n",
       "</div>"
      ],
      "text/plain": [
       "                                                Text  language\n",
       "0  klement gottwaldi surnukeha palsameeriti ning ...  Estonian\n",
       "1  sebes joseph pereira thomas  på eng the jesuit...   Swedish\n",
       "2  ถนนเจริญกรุง อักษรโรมัน thanon charoen krung เ...      Thai\n",
       "3  விசாகப்பட்டினம் தமிழ்ச்சங்கத்தை இந்துப் பத்திர...     Tamil\n",
       "4  de spons behoort tot het geslacht haliclona en...     Dutch"
      ]
     },
     "execution_count": 2,
     "metadata": {},
     "output_type": "execute_result"
    }
   ],
   "source": [
    "#dataset from kaggle (https://www.kaggle.com/code/martinkk5575/language-detection/data?select=dataset.csv)\n",
    "df = pd.read_csv('dataset.csv')\n",
    "df.head()"
   ]
  },
  {
   "cell_type": "code",
   "execution_count": 3,
   "id": "4bdbc652",
   "metadata": {},
   "outputs": [],
   "source": [
    "#function to remove special character (string.punctuation) using string method and changing text to lowercase\n",
    "def removeSC (text):\n",
    "    for SC in string.punctuation:\n",
    "        text = text.replace(SC,\"\")\n",
    "    text = text.lower()\n",
    "    return(text)"
   ]
  },
  {
   "cell_type": "code",
   "execution_count": 4,
   "id": "e9efe428",
   "metadata": {},
   "outputs": [
    {
     "data": {
      "text/plain": [
       "'abcdefs   py '"
      ]
     },
     "execution_count": 4,
     "metadata": {},
     "output_type": "execute_result"
    }
   ],
   "source": [
    "#Example\n",
    "removeSC(\"'abcdefs';: ! @ .py ,.;:[]\")"
   ]
  },
  {
   "cell_type": "code",
   "execution_count": 5,
   "id": "be1b5ec1",
   "metadata": {},
   "outputs": [],
   "source": [
    "#removing special character from df\n",
    "df[\"Text\"] = df[\"Text\"].apply(removeSC)"
   ]
  },
  {
   "cell_type": "code",
   "execution_count": 6,
   "id": "7b495e33",
   "metadata": {},
   "outputs": [
    {
     "data": {
      "text/plain": [
       "(22000, 2)"
      ]
     },
     "execution_count": 6,
     "metadata": {},
     "output_type": "execute_result"
    }
   ],
   "source": [
    "df.shape"
   ]
  },
  {
   "cell_type": "code",
   "execution_count": 7,
   "id": "f7a5d7c1",
   "metadata": {},
   "outputs": [
    {
     "data": {
      "text/plain": [
       "Estonian      1000\n",
       "Swedish       1000\n",
       "English       1000\n",
       "Russian       1000\n",
       "Romanian      1000\n",
       "Persian       1000\n",
       "Pushto        1000\n",
       "Spanish       1000\n",
       "Hindi         1000\n",
       "Korean        1000\n",
       "Chinese       1000\n",
       "French        1000\n",
       "Portugese     1000\n",
       "Indonesian    1000\n",
       "Urdu          1000\n",
       "Latin         1000\n",
       "Turkish       1000\n",
       "Japanese      1000\n",
       "Dutch         1000\n",
       "Tamil         1000\n",
       "Thai          1000\n",
       "Arabic        1000\n",
       "Name: language, dtype: int64"
      ]
     },
     "execution_count": 7,
     "metadata": {},
     "output_type": "execute_result"
    }
   ],
   "source": [
    "df.language.value_counts()"
   ]
  },
  {
   "cell_type": "code",
   "execution_count": 8,
   "id": "d951b4a8",
   "metadata": {},
   "outputs": [],
   "source": [
    "#Separating Dependent and Independent Variable\n",
    "x = df.iloc[:,0]\n",
    "y = df.iloc[:,1]"
   ]
  },
  {
   "cell_type": "code",
   "execution_count": 9,
   "id": "461a8937",
   "metadata": {
    "scrolled": true
   },
   "outputs": [],
   "source": [
    "#Splitting data into training set and test set\n",
    "from sklearn.model_selection import train_test_split\n",
    "xTrain, xTest, yTrain, yTest = train_test_split(x, y, test_size = .2, random_state = 0)"
   ]
  },
  {
   "cell_type": "code",
   "execution_count": 10,
   "id": "e68c53c0",
   "metadata": {},
   "outputs": [
    {
     "data": {
      "text/plain": [
       "21831    傳真社發表相關調查報道後，運輸及房屋局局長張炳良否認知情。不過傳真社在月日引述政府消息人士所...\n",
       "2569     industria una ferrería que solo trabaja en tie...\n",
       "2976     أسس راميرو تحالف مملكتي نافارا وليون الذي استط...\n",
       "18102    het olympic park werd na afloop van de spelen ...\n",
       "5168     wilcoxius truncus is een vliegensoort uit de f...\n",
       "                               ...                        \n",
       "13123    يعد يلستون أكبر النظم الايكولوجية والبيئة من ج...\n",
       "19648    tftp aktarım protokolü olarak genellikle udp k...\n",
       "9845     اعترض اعضاء مجلس النواب على قرار الحل فتدخل ال...\n",
       "10799    după  de treceri la periheliu cometa pierde ga...\n",
       "2732     بربینک کیلیفورنیا کا رقبہ  مربع کیلومیٹر ہے او...\n",
       "Name: Text, Length: 17600, dtype: object"
      ]
     },
     "execution_count": 10,
     "metadata": {},
     "output_type": "execute_result"
    }
   ],
   "source": [
    "xTrain"
   ]
  },
  {
   "cell_type": "code",
   "execution_count": 11,
   "id": "39189028",
   "metadata": {},
   "outputs": [
    {
     "data": {
      "text/plain": [
       "19654    numerabantur octo collegia duodeviginti refugi...\n",
       "7261     încleștarea regilor preia acțiunea de unde a l...\n",
       "3394     jackson soloist  ağustos  tarihinden beri üret...\n",
       "21584    el artículo  del código penal de la república ...\n",
       "4741     alfred frenzel jablonec nad nisou  de setembro...\n",
       "                               ...                        \n",
       "2839     mahallede ilköğretim okulu vardır mahallenin i...\n",
       "14216    作為資本主義的始祖國，英國對上述“固定電價”制度有難以接受的心理障礙，所以從年來苦心積慮地設...\n",
       "12631    อุทยานแห่งชาติน้ำตกโยง ตั้งอยู่บนคาบสมุทรทำให้...\n",
       "9978     اب میں تم سے ایک سوال کرتا ہوں کہ کیا تم لوگ ا...\n",
       "19839    jabal ţār al qidr är ett berg i jordanien det ...\n",
       "Name: Text, Length: 4400, dtype: object"
      ]
     },
     "execution_count": 11,
     "metadata": {},
     "output_type": "execute_result"
    }
   ],
   "source": [
    "xTest"
   ]
  },
  {
   "cell_type": "code",
   "execution_count": 12,
   "id": "82fe31b5",
   "metadata": {},
   "outputs": [
    {
     "data": {
      "text/plain": [
       "21831     Chinese\n",
       "2569      Spanish\n",
       "2976       Arabic\n",
       "18102       Dutch\n",
       "5168        Dutch\n",
       "           ...   \n",
       "13123      Arabic\n",
       "19648     Turkish\n",
       "9845       Arabic\n",
       "10799    Romanian\n",
       "2732         Urdu\n",
       "Name: language, Length: 17600, dtype: object"
      ]
     },
     "execution_count": 12,
     "metadata": {},
     "output_type": "execute_result"
    }
   ],
   "source": [
    "yTrain"
   ]
  },
  {
   "cell_type": "code",
   "execution_count": 13,
   "id": "e58e9863",
   "metadata": {},
   "outputs": [
    {
     "data": {
      "text/plain": [
       "19654        Latin\n",
       "7261      Romanian\n",
       "3394       Turkish\n",
       "21584      Spanish\n",
       "4741     Portugese\n",
       "           ...    \n",
       "2839       Turkish\n",
       "14216      Chinese\n",
       "12631         Thai\n",
       "9978          Urdu\n",
       "19839      Swedish\n",
       "Name: language, Length: 4400, dtype: object"
      ]
     },
     "execution_count": 13,
     "metadata": {},
     "output_type": "execute_result"
    }
   ],
   "source": [
    "yTest"
   ]
  },
  {
   "cell_type": "code",
   "execution_count": 14,
   "id": "ddf6085b",
   "metadata": {},
   "outputs": [],
   "source": [
    "#Define Feature extraction\n",
    "from sklearn import feature_extraction\n",
    "Vec = feature_extraction.text.TfidfVectorizer(ngram_range=(1,1), analyzer=\"char\")"
   ]
  },
  {
   "cell_type": "code",
   "execution_count": 15,
   "id": "0726c455",
   "metadata": {},
   "outputs": [],
   "source": [
    "#pipeline(model) definition\n",
    "from sklearn import pipeline\n",
    "from sklearn import linear_model\n",
    "Logistic = linear_model.LogisticRegression(max_iter= 10000)\n",
    "#Extracting feature (vec) and classifier (clf)\n",
    "Model = pipeline.Pipeline([('vec', Vec), ('clf', Logistic)])"
   ]
  },
  {
   "cell_type": "code",
   "execution_count": 16,
   "id": "e05a67d4",
   "metadata": {},
   "outputs": [
    {
     "data": {
      "text/plain": [
       "Pipeline(steps=[('vec', TfidfVectorizer(analyzer='char')),\n",
       "                ('clf', LogisticRegression(max_iter=10000))])"
      ]
     },
     "execution_count": 16,
     "metadata": {},
     "output_type": "execute_result"
    }
   ],
   "source": [
    "#Fitting model to training data\n",
    "Model.fit(xTrain, yTrain)"
   ]
  },
  {
   "cell_type": "code",
   "execution_count": 17,
   "id": "4d9d77bf",
   "metadata": {},
   "outputs": [],
   "source": [
    "#Predicting test data\n",
    "yPred = Model.predict(xTest)"
   ]
  },
  {
   "cell_type": "code",
   "execution_count": 18,
   "id": "a4a08e09",
   "metadata": {},
   "outputs": [
    {
     "name": "stdout",
     "output_type": "stream",
     "text": [
      "Accuracy of the model:  0.9686363636363636\n",
      "\n",
      "\n",
      "\n",
      "Classification Report:\n",
      "\n",
      "              precision    recall  f1-score   support\n",
      "\n",
      "      Arabic       1.00      1.00      1.00       193\n",
      "     Chinese       0.99      0.99      0.99       197\n",
      "       Dutch       0.93      0.93      0.93       208\n",
      "     English       0.75      0.95      0.84       200\n",
      "    Estonian       0.96      0.94      0.95       176\n",
      "      French       0.98      0.96      0.97       196\n",
      "       Hindi       1.00      0.98      0.99       192\n",
      "  Indonesian       0.98      0.96      0.97       192\n",
      "    Japanese       1.00      0.99      1.00       182\n",
      "      Korean       1.00      0.99      1.00       204\n",
      "       Latin       0.93      0.91      0.92       202\n",
      "     Persian       0.99      1.00      0.99       186\n",
      "   Portugese       0.96      0.88      0.91       196\n",
      "      Pushto       1.00      0.95      0.98       207\n",
      "    Romanian       1.00      0.98      0.99       206\n",
      "     Russian       0.99      0.99      0.99       215\n",
      "     Spanish       0.93      0.97      0.95       190\n",
      "     Swedish       0.99      0.98      0.98       204\n",
      "       Tamil       1.00      0.99      0.99       224\n",
      "        Thai       1.00      0.99      1.00       203\n",
      "     Turkish       1.00      0.99      1.00       237\n",
      "        Urdu       1.00      0.99      0.99       190\n",
      "\n",
      "    accuracy                           0.97      4400\n",
      "   macro avg       0.97      0.97      0.97      4400\n",
      "weighted avg       0.97      0.97      0.97      4400\n",
      "\n"
     ]
    }
   ],
   "source": [
    "#Model Report\n",
    "from sklearn.metrics import classification_report,accuracy_score\n",
    "print(\"Accuracy of the model: \", accuracy_score(yTest, yPred))\n",
    "print(\"\\n\\n\")\n",
    "print(\"Classification Report:\\n\")\n",
    "print(classification_report(yTest, yPred))"
   ]
  },
  {
   "cell_type": "code",
   "execution_count": 19,
   "id": "a14ab582",
   "metadata": {},
   "outputs": [
    {
     "data": {
      "text/html": [
       "<div>\n",
       "<style scoped>\n",
       "    .dataframe tbody tr th:only-of-type {\n",
       "        vertical-align: middle;\n",
       "    }\n",
       "\n",
       "    .dataframe tbody tr th {\n",
       "        vertical-align: top;\n",
       "    }\n",
       "\n",
       "    .dataframe thead th {\n",
       "        text-align: right;\n",
       "    }\n",
       "</style>\n",
       "<table border=\"1\" class=\"dataframe\">\n",
       "  <thead>\n",
       "    <tr style=\"text-align: right;\">\n",
       "      <th></th>\n",
       "      <th>Actual</th>\n",
       "      <th>Predicted</th>\n",
       "    </tr>\n",
       "  </thead>\n",
       "  <tbody>\n",
       "    <tr>\n",
       "      <th>19654</th>\n",
       "      <td>Latin</td>\n",
       "      <td>Latin</td>\n",
       "    </tr>\n",
       "    <tr>\n",
       "      <th>7261</th>\n",
       "      <td>Romanian</td>\n",
       "      <td>Romanian</td>\n",
       "    </tr>\n",
       "    <tr>\n",
       "      <th>3394</th>\n",
       "      <td>Turkish</td>\n",
       "      <td>Turkish</td>\n",
       "    </tr>\n",
       "    <tr>\n",
       "      <th>21584</th>\n",
       "      <td>Spanish</td>\n",
       "      <td>Spanish</td>\n",
       "    </tr>\n",
       "    <tr>\n",
       "      <th>4741</th>\n",
       "      <td>Portugese</td>\n",
       "      <td>Portugese</td>\n",
       "    </tr>\n",
       "    <tr>\n",
       "      <th>...</th>\n",
       "      <td>...</td>\n",
       "      <td>...</td>\n",
       "    </tr>\n",
       "    <tr>\n",
       "      <th>2839</th>\n",
       "      <td>Turkish</td>\n",
       "      <td>Turkish</td>\n",
       "    </tr>\n",
       "    <tr>\n",
       "      <th>14216</th>\n",
       "      <td>Chinese</td>\n",
       "      <td>Chinese</td>\n",
       "    </tr>\n",
       "    <tr>\n",
       "      <th>12631</th>\n",
       "      <td>Thai</td>\n",
       "      <td>Thai</td>\n",
       "    </tr>\n",
       "    <tr>\n",
       "      <th>9978</th>\n",
       "      <td>Urdu</td>\n",
       "      <td>Urdu</td>\n",
       "    </tr>\n",
       "    <tr>\n",
       "      <th>19839</th>\n",
       "      <td>Swedish</td>\n",
       "      <td>Swedish</td>\n",
       "    </tr>\n",
       "  </tbody>\n",
       "</table>\n",
       "<p>4400 rows × 2 columns</p>\n",
       "</div>"
      ],
      "text/plain": [
       "          Actual  Predicted\n",
       "19654      Latin      Latin\n",
       "7261    Romanian   Romanian\n",
       "3394     Turkish    Turkish\n",
       "21584    Spanish    Spanish\n",
       "4741   Portugese  Portugese\n",
       "...          ...        ...\n",
       "2839     Turkish    Turkish\n",
       "14216    Chinese    Chinese\n",
       "12631       Thai       Thai\n",
       "9978        Urdu       Urdu\n",
       "19839    Swedish    Swedish\n",
       "\n",
       "[4400 rows x 2 columns]"
      ]
     },
     "execution_count": 19,
     "metadata": {},
     "output_type": "execute_result"
    }
   ],
   "source": [
    "#Given data and predicted data\n",
    "test = pd.DataFrame({\"Actual\": yTest, \"Predicted\": yPred})\n",
    "test"
   ]
  },
  {
   "cell_type": "code",
   "execution_count": 20,
   "id": "0bd9eeda",
   "metadata": {
    "scrolled": false
   },
   "outputs": [
    {
     "data": {
      "image/png": "[encoded data removed]",
      "text/plain": [
       "<Figure size 1440x864 with 2 Axes>"
      ]
     },
     "metadata": {
      "needs_background": "light"
     },
     "output_type": "display_data"
    }
   ],
   "source": [
    "from sklearn.metrics import confusion_matrix\n",
    "CM = confusion_matrix(yTest, yPred)\n",
    "plt.figure(figsize=(20,12))\n",
    "sns.heatmap(CM, annot= True)\n",
    "plt.show()"
   ]
  },
  {
   "cell_type": "code",
   "execution_count": 21,
   "id": "d494befd",
   "metadata": {},
   "outputs": [
    {
     "name": "stdout",
     "output_type": "stream",
     "text": [
      "[[193   0   0   0   0   0   0   0   0   0   0   0   0   0   0   0   0   0\n",
      "    0   0   0   0]\n",
      " [  0 195   0   2   0   0   0   0   0   0   0   0   0   0   0   0   0   0\n",
      "    0   0   0   0]\n",
      " [  0   0 193  10   0   1   0   0   0   0   2   0   2   0   0   0   0   0\n",
      "    0   0   0   0]\n",
      " [  0   0   1 191   1   0   0   3   0   0   4   0   0   0   0   0   0   0\n",
      "    0   0   0   0]\n",
      " [  0   0   2   2 166   0   0   0   0   0   1   0   1   0   0   1   0   3\n",
      "    0   0   0   0]\n",
      " [  0   0   1   3   0 188   0   0   0   0   2   0   0   0   0   0   2   0\n",
      "    0   0   0   0]\n",
      " [  0   0   0   3   0   0 188   0   0   0   1   0   0   0   0   0   0   0\n",
      "    0   0   0   0]\n",
      " [  0   0   1   0   2   0   0 185   0   0   1   0   0   0   0   0   3   0\n",
      "    0   0   0   0]\n",
      " [  0   0   0   0   0   0   0   0 181   0   0   0   0   0   0   1   0   0\n",
      "    0   0   0   0]\n",
      " [  0   2   0   0   0   0   0   0   0 202   0   0   0   0   0   0   0   0\n",
      "    0   0   0   0]\n",
      " [  0   0   2  11   1   2   0   0   0   0 183   0   1   0   1   0   1   0\n",
      "    0   0   0   0]\n",
      " [  0   0   0   0   0   0   0   0   0   0   0 186   0   0   0   0   0   0\n",
      "    0   0   0   0]\n",
      " [  0   0   5  12   0   0   0   0   0   0   1   0 172   0   0   0   6   0\n",
      "    0   0   0   0]\n",
      " [  0   0   0   7   0   0   0   0   0   0   0   2   0 197   0   0   1   0\n",
      "    0   0   0   0]\n",
      " [  0   0   0   2   0   0   0   0   0   0   0   0   1   0 202   0   1   0\n",
      "    0   0   0   0]\n",
      " [  0   0   0   2   0   0   0   0   0   0   1   0   0   0   0 212   0   0\n",
      "    0   0   0   0]\n",
      " [  0   0   0   2   0   1   0   0   0   0   0   0   3   0   0   0 184   0\n",
      "    0   0   0   0]\n",
      " [  0   0   2   0   3   0   0   0   0   0   0   0   0   0   0   0   0 199\n",
      "    0   0   0   0]\n",
      " [  0   0   0   3   0   0   0   0   0   0   0   0   0   0   0   0   0   0\n",
      "  221   0   0   0]\n",
      " [  0   0   0   2   0   0   0   0   0   0   0   0   0   0   0   0   0   0\n",
      "    0 201   0   0]\n",
      " [  0   0   1   0   0   0   0   1   0   0   0   0   0   0   0   0   0   0\n",
      "    0   0 235   0]\n",
      " [  0   0   0   1   0   0   0   0   0   0   1   0   0   0   0   0   0   0\n",
      "    0   0   0 188]]\n"
     ]
    }
   ],
   "source": [
    "print (CM)"
   ]
  },
  {
   "cell_type": "markdown",
   "id": "3fc4a51a",
   "metadata": {},
   "source": [
    "Testing"
   ]
  },
  {
   "cell_type": "code",
   "execution_count": 22,
   "id": "7a79e0ec",
   "metadata": {},
   "outputs": [
    {
     "data": {
      "text/plain": [
       "array(['Chinese'], dtype=object)"
      ]
     },
     "execution_count": 22,
     "metadata": {},
     "output_type": "execute_result"
    }
   ],
   "source": [
    "Model.predict([\"傳真社發表相關調查報道後\"])"
   ]
  },
  {
   "cell_type": "code",
   "execution_count": 23,
   "id": "173764a5",
   "metadata": {},
   "outputs": [
    {
     "data": {
      "text/plain": [
       "array(['English'], dtype=object)"
      ]
     },
     "execution_count": 23,
     "metadata": {},
     "output_type": "execute_result"
    }
   ],
   "source": [
    "Model.predict([\"thank you for dataset!\"])"
   ]
  },
  {
   "cell_type": "code",
   "execution_count": 24,
   "id": "6722186f",
   "metadata": {},
   "outputs": [
    {
     "data": {
      "text/plain": [
       "array(['Indonesian'], dtype=object)"
      ]
     },
     "execution_count": 24,
     "metadata": {},
     "output_type": "execute_result"
    }
   ],
   "source": [
    "Model.predict([\"Nama aku Michael\"])"
   ]
  },
  {
   "cell_type": "code",
   "execution_count": 25,
   "id": "e1ed8f5d",
   "metadata": {},
   "outputs": [
    {
     "data": {
      "text/plain": [
       "array(['Estonian'], dtype=object)"
      ]
     },
     "execution_count": 25,
     "metadata": {},
     "output_type": "execute_result"
    }
   ],
   "source": [
    "Model.predict([\"Tallinna vanalinna eriline väärtus seisneb eelkõige tänaseni püsinud keskaegses miljöös ja struktuuris, mis on teistest Põhja-Euroopa pealinnadest kadunud\"])"
   ]
  },
  {
   "cell_type": "code",
   "execution_count": 26,
   "id": "508bcb65",
   "metadata": {},
   "outputs": [],
   "source": [
    "import pickle\n",
    "new_file = open(\"NLP model.pkl\",\"wb\")\n",
    "pickle.dump(Model,new_file)\n",
    "new_file.close()"
   ]
  }
 ],
 "metadata": {
  "kernelspec": {
   "display_name": "Python 3 (ipykernel)",
   "language": "python",
   "name": "python3"
  },
  "language_info": {
   "codemirror_mode": {
    "name": "ipython",
    "version": 3
   },
   "file_extension": ".py",
   "mimetype": "text/x-python",
   "name": "python",
   "nbconvert_exporter": "python",
   "pygments_lexer": "ipython3",
   "version": "3.9.7"
  }
 },
 "nbformat": 4,
 "nbformat_minor": 5
}
