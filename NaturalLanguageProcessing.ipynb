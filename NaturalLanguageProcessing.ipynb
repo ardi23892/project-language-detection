{
 "cells": [
  {
   "cell_type": "code",
   "execution_count": 1,
   "id": "98c654fb",
   "metadata": {},
   "outputs": [],
   "source": [
    "#importing libraries\n",
    "import string\n",
    "import pandas as pd\n",
    "import numpy as np"
   ]
  },
  {
   "cell_type": "code",
   "execution_count": 2,
   "id": "e8eea2a9",
   "metadata": {},
   "outputs": [
    {
     "data": {
      "text/html": [
       "<div>\n",
       "<style scoped>\n",
       "    .dataframe tbody tr th:only-of-type {\n",
       "        vertical-align: middle;\n",
       "    }\n",
       "\n",
       "    .dataframe tbody tr th {\n",
       "        vertical-align: top;\n",
       "    }\n",
       "\n",
       "    .dataframe thead th {\n",
       "        text-align: right;\n",
       "    }\n",
       "</style>\n",
       "<table border=\"1\" class=\"dataframe\">\n",
       "  <thead>\n",
       "    <tr style=\"text-align: right;\">\n",
       "      <th></th>\n",
       "      <th>Text</th>\n",
       "      <th>language</th>\n",
       "    </tr>\n",
       "  </thead>\n",
       "  <tbody>\n",
       "    <tr>\n",
       "      <th>0</th>\n",
       "      <td>klement gottwaldi surnukeha palsameeriti ning ...</td>\n",
       "      <td>Estonian</td>\n",
       "    </tr>\n",
       "    <tr>\n",
       "      <th>1</th>\n",
       "      <td>sebes joseph pereira thomas  på eng the jesuit...</td>\n",
       "      <td>Swedish</td>\n",
       "    </tr>\n",
       "    <tr>\n",
       "      <th>2</th>\n",
       "      <td>ถนนเจริญกรุง อักษรโรมัน thanon charoen krung เ...</td>\n",
       "      <td>Thai</td>\n",
       "    </tr>\n",
       "    <tr>\n",
       "      <th>3</th>\n",
       "      <td>விசாகப்பட்டினம் தமிழ்ச்சங்கத்தை இந்துப் பத்திர...</td>\n",
       "      <td>Tamil</td>\n",
       "    </tr>\n",
       "    <tr>\n",
       "      <th>4</th>\n",
       "      <td>de spons behoort tot het geslacht haliclona en...</td>\n",
       "      <td>Dutch</td>\n",
       "    </tr>\n",
       "  </tbody>\n",
       "</table>\n",
       "</div>"
      ],
      "text/plain": [
       "                                                Text  language\n",
       "0  klement gottwaldi surnukeha palsameeriti ning ...  Estonian\n",
       "1  sebes joseph pereira thomas  på eng the jesuit...   Swedish\n",
       "2  ถนนเจริญกรุง อักษรโรมัน thanon charoen krung เ...      Thai\n",
       "3  விசாகப்பட்டினம் தமிழ்ச்சங்கத்தை இந்துப் பத்திர...     Tamil\n",
       "4  de spons behoort tot het geslacht haliclona en...     Dutch"
      ]
     },
     "execution_count": 2,
     "metadata": {},
     "output_type": "execute_result"
    }
   ],
   "source": [
    "#dataset from kaggle (https://www.kaggle.com/code/martinkk5575/language-detection/data?select=dataset.csv)\n",
    "df = pd.read_csv('dataset.csv')\n",
    "df.head()"
   ]
  },
  {
   "cell_type": "code",
   "execution_count": 3,
   "id": "4bdbc652",
   "metadata": {},
   "outputs": [],
   "source": [
    "#function to remove special character (string.punctuation) using string method\n",
    "def removeSC (text):\n",
    "    for SC in string.punctuation:\n",
    "        text = text.replace(SC,\"\")\n",
    "    text = text.lower()\n",
    "    return(text)"
   ]
  },
  {
   "cell_type": "code",
   "execution_count": 4,
   "id": "e9efe428",
   "metadata": {},
   "outputs": [
    {
     "data": {
      "text/plain": [
       "' lifecan be refer to as the phenomena of the   py '"
      ]
     },
     "execution_count": 4,
     "metadata": {},
     "output_type": "execute_result"
    }
   ],
   "source": [
    "#Example\n",
    "removeSC(\" 'Life'can be refer to as the phenomena of the: ! @ .py ,.;:[]\")"
   ]
  },
  {
   "cell_type": "code",
   "execution_count": 5,
   "id": "be1b5ec1",
   "metadata": {},
   "outputs": [],
   "source": [
    "#removing special character from df\n",
    "df[\"Text\"] = df[\"Text\"].apply(removeSC)"
   ]
  },
  {
   "cell_type": "code",
   "execution_count": 6,
   "id": "c15b6164",
   "metadata": {},
   "outputs": [],
   "source": [
    "#Change typo\n",
    "df = df.replace(to_replace =\"Portugese\",value =\"Portuguese\")"
   ]
  },
  {
   "cell_type": "code",
   "execution_count": 7,
   "id": "7b495e33",
   "metadata": {},
   "outputs": [
    {
     "data": {
      "text/plain": [
       "(22000, 2)"
      ]
     },
     "execution_count": 7,
     "metadata": {},
     "output_type": "execute_result"
    }
   ],
   "source": [
    "df.shape"
   ]
  },
  {
   "cell_type": "code",
   "execution_count": 8,
   "id": "f7a5d7c1",
   "metadata": {},
   "outputs": [
    {
     "data": {
      "text/plain": [
       "Estonian      1000\n",
       "Swedish       1000\n",
       "English       1000\n",
       "Russian       1000\n",
       "Romanian      1000\n",
       "Persian       1000\n",
       "Pushto        1000\n",
       "Spanish       1000\n",
       "Hindi         1000\n",
       "Korean        1000\n",
       "Chinese       1000\n",
       "French        1000\n",
       "Portuguese    1000\n",
       "Indonesian    1000\n",
       "Urdu          1000\n",
       "Latin         1000\n",
       "Turkish       1000\n",
       "Japanese      1000\n",
       "Dutch         1000\n",
       "Tamil         1000\n",
       "Thai          1000\n",
       "Arabic        1000\n",
       "Name: language, dtype: int64"
      ]
     },
     "execution_count": 8,
     "metadata": {},
     "output_type": "execute_result"
    }
   ],
   "source": [
    "df.language.value_counts()"
   ]
  },
  {
   "cell_type": "code",
   "execution_count": 9,
   "id": "d951b4a8",
   "metadata": {},
   "outputs": [],
   "source": [
    "#Separating Dependent and Independent Variable\n",
    "x = df.iloc[:,0]\n",
    "y = df.iloc[:,1]"
   ]
  },
  {
   "cell_type": "code",
   "execution_count": 10,
   "id": "461a8937",
   "metadata": {
    "scrolled": true
   },
   "outputs": [],
   "source": [
    "#Splitting data into training set and test set\n",
    "from sklearn.model_selection import train_test_split\n",
    "xTrain, xTest, yTrain, yTest = train_test_split(x, y, test_size = .2, random_state = 0)"
   ]
  },
  {
   "cell_type": "code",
   "execution_count": 11,
   "id": "e68c53c0",
   "metadata": {},
   "outputs": [
    {
     "data": {
      "text/plain": [
       "21831    傳真社發表相關調查報道後，運輸及房屋局局長張炳良否認知情。不過傳真社在月日引述政府消息人士所...\n",
       "2569     industria una ferrería que solo trabaja en tie...\n",
       "2976     أسس راميرو تحالف مملكتي نافارا وليون الذي استط...\n",
       "18102    het olympic park werd na afloop van de spelen ...\n",
       "5168     wilcoxius truncus is een vliegensoort uit de f...\n",
       "                               ...                        \n",
       "13123    يعد يلستون أكبر النظم الايكولوجية والبيئة من ج...\n",
       "19648    tftp aktarım protokolü olarak genellikle udp k...\n",
       "9845     اعترض اعضاء مجلس النواب على قرار الحل فتدخل ال...\n",
       "10799    după  de treceri la periheliu cometa pierde ga...\n",
       "2732     بربینک کیلیفورنیا کا رقبہ  مربع کیلومیٹر ہے او...\n",
       "Name: Text, Length: 17600, dtype: object"
      ]
     },
     "execution_count": 11,
     "metadata": {},
     "output_type": "execute_result"
    }
   ],
   "source": [
    "xTrain"
   ]
  },
  {
   "cell_type": "code",
   "execution_count": 12,
   "id": "39189028",
   "metadata": {},
   "outputs": [
    {
     "data": {
      "text/plain": [
       "19654    numerabantur octo collegia duodeviginti refugi...\n",
       "7261     încleștarea regilor preia acțiunea de unde a l...\n",
       "3394     jackson soloist  ağustos  tarihinden beri üret...\n",
       "21584    el artículo  del código penal de la república ...\n",
       "4741     alfred frenzel jablonec nad nisou  de setembro...\n",
       "                               ...                        \n",
       "2839     mahallede ilköğretim okulu vardır mahallenin i...\n",
       "14216    作為資本主義的始祖國，英國對上述“固定電價”制度有難以接受的心理障礙，所以從年來苦心積慮地設...\n",
       "12631    อุทยานแห่งชาติน้ำตกโยง ตั้งอยู่บนคาบสมุทรทำให้...\n",
       "9978     اب میں تم سے ایک سوال کرتا ہوں کہ کیا تم لوگ ا...\n",
       "19839    jabal ţār al qidr är ett berg i jordanien det ...\n",
       "Name: Text, Length: 4400, dtype: object"
      ]
     },
     "execution_count": 12,
     "metadata": {},
     "output_type": "execute_result"
    }
   ],
   "source": [
    "xTest"
   ]
  },
  {
   "cell_type": "code",
   "execution_count": 13,
   "id": "82fe31b5",
   "metadata": {},
   "outputs": [
    {
     "data": {
      "text/plain": [
       "21831     Chinese\n",
       "2569      Spanish\n",
       "2976       Arabic\n",
       "18102       Dutch\n",
       "5168        Dutch\n",
       "           ...   \n",
       "13123      Arabic\n",
       "19648     Turkish\n",
       "9845       Arabic\n",
       "10799    Romanian\n",
       "2732         Urdu\n",
       "Name: language, Length: 17600, dtype: object"
      ]
     },
     "execution_count": 13,
     "metadata": {},
     "output_type": "execute_result"
    }
   ],
   "source": [
    "yTrain"
   ]
  },
  {
   "cell_type": "code",
   "execution_count": 14,
   "id": "e58e9863",
   "metadata": {},
   "outputs": [
    {
     "data": {
      "text/plain": [
       "19654         Latin\n",
       "7261       Romanian\n",
       "3394        Turkish\n",
       "21584       Spanish\n",
       "4741     Portuguese\n",
       "            ...    \n",
       "2839        Turkish\n",
       "14216       Chinese\n",
       "12631          Thai\n",
       "9978           Urdu\n",
       "19839       Swedish\n",
       "Name: language, Length: 4400, dtype: object"
      ]
     },
     "execution_count": 14,
     "metadata": {},
     "output_type": "execute_result"
    }
   ],
   "source": [
    "yTest"
   ]
  },
  {
   "cell_type": "code",
   "execution_count": 15,
   "id": "ddf6085b",
   "metadata": {},
   "outputs": [],
   "source": [
    "#Define Feature extraction\n",
    "from sklearn import feature_extraction\n",
    "Vec = feature_extraction.text.TfidfVectorizer(ngram_range=(1,1), analyzer=\"char\")"
   ]
  },
  {
   "cell_type": "code",
   "execution_count": 16,
   "id": "0726c455",
   "metadata": {},
   "outputs": [],
   "source": [
    "#pipeline(model) definition\n",
    "from sklearn import pipeline\n",
    "from sklearn import linear_model\n",
    "Logistic = linear_model.LogisticRegression(max_iter= 10000)\n",
    "#Extracting feature (vec) and classifier (clf)\n",
    "Model = pipeline.Pipeline([('vec', Vec), ('clf', Logistic)])"
   ]
  },
  {
   "cell_type": "code",
   "execution_count": 17,
   "id": "e05a67d4",
   "metadata": {},
   "outputs": [
    {
     "data": {
      "text/plain": [
       "Pipeline(steps=[('vec', TfidfVectorizer(analyzer='char')),\n",
       "                ('clf', LogisticRegression(max_iter=10000))])"
      ]
     },
     "execution_count": 17,
     "metadata": {},
     "output_type": "execute_result"
    }
   ],
   "source": [
    "#Fitting model to training data\n",
    "Model.fit(xTrain, yTrain)"
   ]
  },
  {
   "cell_type": "code",
   "execution_count": 18,
   "id": "4d9d77bf",
   "metadata": {},
   "outputs": [],
   "source": [
    "#Predicting test data\n",
    "yPred = Model.predict(xTest)"
   ]
  },
  {
   "cell_type": "code",
   "execution_count": 19,
   "id": "a4a08e09",
   "metadata": {},
   "outputs": [
    {
     "data": {
      "text/plain": [
       "0.9686363636363636"
      ]
     },
     "execution_count": 19,
     "metadata": {},
     "output_type": "execute_result"
    }
   ],
   "source": [
    "#Checking score\n",
    "Model.score(xTest, yTest)"
   ]
  },
  {
   "cell_type": "code",
   "execution_count": 20,
   "id": "a14ab582",
   "metadata": {},
   "outputs": [
    {
     "data": {
      "text/html": [
       "<div>\n",
       "<style scoped>\n",
       "    .dataframe tbody tr th:only-of-type {\n",
       "        vertical-align: middle;\n",
       "    }\n",
       "\n",
       "    .dataframe tbody tr th {\n",
       "        vertical-align: top;\n",
       "    }\n",
       "\n",
       "    .dataframe thead th {\n",
       "        text-align: right;\n",
       "    }\n",
       "</style>\n",
       "<table border=\"1\" class=\"dataframe\">\n",
       "  <thead>\n",
       "    <tr style=\"text-align: right;\">\n",
       "      <th></th>\n",
       "      <th>Actual</th>\n",
       "      <th>Predicted</th>\n",
       "    </tr>\n",
       "  </thead>\n",
       "  <tbody>\n",
       "    <tr>\n",
       "      <th>19654</th>\n",
       "      <td>Latin</td>\n",
       "      <td>Latin</td>\n",
       "    </tr>\n",
       "    <tr>\n",
       "      <th>7261</th>\n",
       "      <td>Romanian</td>\n",
       "      <td>Romanian</td>\n",
       "    </tr>\n",
       "    <tr>\n",
       "      <th>3394</th>\n",
       "      <td>Turkish</td>\n",
       "      <td>Turkish</td>\n",
       "    </tr>\n",
       "    <tr>\n",
       "      <th>21584</th>\n",
       "      <td>Spanish</td>\n",
       "      <td>Spanish</td>\n",
       "    </tr>\n",
       "    <tr>\n",
       "      <th>4741</th>\n",
       "      <td>Portuguese</td>\n",
       "      <td>Portuguese</td>\n",
       "    </tr>\n",
       "    <tr>\n",
       "      <th>...</th>\n",
       "      <td>...</td>\n",
       "      <td>...</td>\n",
       "    </tr>\n",
       "    <tr>\n",
       "      <th>2839</th>\n",
       "      <td>Turkish</td>\n",
       "      <td>Turkish</td>\n",
       "    </tr>\n",
       "    <tr>\n",
       "      <th>14216</th>\n",
       "      <td>Chinese</td>\n",
       "      <td>Chinese</td>\n",
       "    </tr>\n",
       "    <tr>\n",
       "      <th>12631</th>\n",
       "      <td>Thai</td>\n",
       "      <td>Thai</td>\n",
       "    </tr>\n",
       "    <tr>\n",
       "      <th>9978</th>\n",
       "      <td>Urdu</td>\n",
       "      <td>Urdu</td>\n",
       "    </tr>\n",
       "    <tr>\n",
       "      <th>19839</th>\n",
       "      <td>Swedish</td>\n",
       "      <td>Swedish</td>\n",
       "    </tr>\n",
       "  </tbody>\n",
       "</table>\n",
       "<p>4400 rows × 2 columns</p>\n",
       "</div>"
      ],
      "text/plain": [
       "           Actual   Predicted\n",
       "19654       Latin       Latin\n",
       "7261     Romanian    Romanian\n",
       "3394      Turkish     Turkish\n",
       "21584     Spanish     Spanish\n",
       "4741   Portuguese  Portuguese\n",
       "...           ...         ...\n",
       "2839      Turkish     Turkish\n",
       "14216     Chinese     Chinese\n",
       "12631        Thai        Thai\n",
       "9978         Urdu        Urdu\n",
       "19839     Swedish     Swedish\n",
       "\n",
       "[4400 rows x 2 columns]"
      ]
     },
     "execution_count": 20,
     "metadata": {},
     "output_type": "execute_result"
    }
   ],
   "source": [
    "#Given data and predicted data\n",
    "test = pd.DataFrame({\"Actual\": yTest, \"Predicted\": yPred})\n",
    "test"
   ]
  },
  {
   "cell_type": "markdown",
   "id": "3fc4a51a",
   "metadata": {},
   "source": [
    "Testing"
   ]
  },
  {
   "cell_type": "code",
   "execution_count": 21,
   "id": "7a79e0ec",
   "metadata": {},
   "outputs": [
    {
     "data": {
      "text/plain": [
       "array(['Chinese'], dtype=object)"
      ]
     },
     "execution_count": 21,
     "metadata": {},
     "output_type": "execute_result"
    }
   ],
   "source": [
    "Model.predict([\"傳真社發表相關調查報道後\"])"
   ]
  },
  {
   "cell_type": "code",
   "execution_count": 22,
   "id": "173764a5",
   "metadata": {},
   "outputs": [
    {
     "data": {
      "text/plain": [
       "array(['English'], dtype=object)"
      ]
     },
     "execution_count": 22,
     "metadata": {},
     "output_type": "execute_result"
    }
   ],
   "source": [
    "Model.predict([\"thank you for this fantastic dataset!\"])"
   ]
  },
  {
   "cell_type": "code",
   "execution_count": 23,
   "id": "6722186f",
   "metadata": {},
   "outputs": [
    {
     "data": {
      "text/plain": [
       "array(['Indonesian'], dtype=object)"
      ]
     },
     "execution_count": 23,
     "metadata": {},
     "output_type": "execute_result"
    }
   ],
   "source": [
    "Model.predict([\"Nama aku Michael\"])"
   ]
  },
  {
   "cell_type": "code",
   "execution_count": 24,
   "id": "e1ed8f5d",
   "metadata": {},
   "outputs": [
    {
     "data": {
      "text/plain": [
       "array(['Estonian'], dtype=object)"
      ]
     },
     "execution_count": 24,
     "metadata": {},
     "output_type": "execute_result"
    }
   ],
   "source": [
    "Model.predict([\"klement gottwaldi surnukeha palsameeriti\"])"
   ]
  },
  {
   "cell_type": "code",
   "execution_count": 25,
   "id": "190de09a",
   "metadata": {},
   "outputs": [
    {
     "data": {
      "text/plain": [
       "array(['Indonesian'], dtype=object)"
      ]
     },
     "execution_count": 25,
     "metadata": {},
     "output_type": "execute_result"
    }
   ],
   "source": [
    "Model.predict([\"Selamat Malam semuanya\"])"
   ]
  },
  {
   "cell_type": "code",
   "execution_count": 26,
   "id": "508bcb65",
   "metadata": {},
   "outputs": [],
   "source": [
    "import pickle\n",
    "new_file = open(\"NLP model.pkl\",\"wb\")\n",
    "pickle.dump(Model,new_file)\n",
    "new_file.close()"
   ]
  },
  {
   "cell_type": "code",
   "execution_count": 26,
   "id": "5d11d56f",
   "metadata": {},
   "outputs": [],
   "source": [
    "with open(\"NLP model.pkl\", \"rb\") as file:\n",
    "    nlpmodel = pickle.load(file)"
   ]
  },
  {
   "cell_type": "code",
   "execution_count": 27,
   "id": "b46eda66",
   "metadata": {},
   "outputs": [
    {
     "data": {
      "text/plain": [
       "array(['Indonesian'], dtype=object)"
      ]
     },
     "execution_count": 27,
     "metadata": {},
     "output_type": "execute_result"
    }
   ],
   "source": [
    "nlpmodel.predict([\"Selamat Malam semuanya\"])"
   ]
  }
 ],
 "metadata": {
  "kernelspec": {
   "display_name": "Python 3 (ipykernel)",
   "language": "python",
   "name": "python3"
  },
  "language_info": {
   "codemirror_mode": {
    "name": "ipython",
    "version": 3
   },
   "file_extension": ".py",
   "mimetype": "text/x-python",
   "name": "python",
   "nbconvert_exporter": "python",
   "pygments_lexer": "ipython3",
   "version": "3.9.7"
  }
 },
 "nbformat": 4,
 "nbformat_minor": 5
}
